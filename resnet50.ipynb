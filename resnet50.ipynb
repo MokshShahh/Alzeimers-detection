{
 "cells": [
  {
   "cell_type": "code",
   "execution_count": 2,
   "metadata": {},
   "outputs": [],
   "source": [
    "import os\n",
    "import numpy as np\n",
    "from PIL import Image\n",
    "import torch\n",
    "from torchvision import transforms, models\n",
    "from torch.utils.data import Dataset, DataLoader\n",
    "import torch.nn as nn"
   ]
  },
  {
   "cell_type": "code",
   "execution_count": 6,
   "metadata": {},
   "outputs": [
    {
     "name": "stdout",
     "output_type": "stream",
     "text": [
      "Found 86 files in demented\n",
      "Copying ./demented\\OAS2_0164_MR1 to dataset\\train\\demented\\OAS2_0164_MR1\n",
      "Copying ./demented\\OAS2_0106_MR1 to dataset\\train\\demented\\OAS2_0106_MR1\n",
      "Copying ./demented\\OAS2_0184_MR2 to dataset\\train\\demented\\OAS2_0184_MR2\n",
      "Copying ./demented\\OAS2_0182_MR2 to dataset\\train\\demented\\OAS2_0182_MR2\n",
      "Copying ./demented\\OAS2_0159_MR1 to dataset\\train\\demented\\OAS2_0159_MR1\n",
      "Copying ./demented\\OAS2_0108_MR2 to dataset\\train\\demented\\OAS2_0108_MR2\n",
      "Copying ./demented\\OAS2_0113_MR2 to dataset\\train\\demented\\OAS2_0113_MR2\n",
      "Copying ./demented\\OAS2_0102_MR1 to dataset\\train\\demented\\OAS2_0102_MR1\n",
      "Copying ./demented\\OAS2_0179_MR2 to dataset\\train\\demented\\OAS2_0179_MR2\n",
      "Copying ./demented\\OAS2_0102_MR2 to dataset\\train\\demented\\OAS2_0102_MR2\n",
      "Copying ./demented\\OAS2_0150_MR1 to dataset\\train\\demented\\OAS2_0150_MR1\n",
      "Copying ./demented\\OAS2_0185_MR1 to dataset\\train\\demented\\OAS2_0185_MR1\n",
      "Copying ./demented\\OAS2_0157_MR1 to dataset\\train\\demented\\OAS2_0157_MR1\n",
      "Copying ./demented\\OAS2_0172_MR1 to dataset\\train\\demented\\OAS2_0172_MR1\n",
      "Copying ./demented\\OAS2_0111_MR1 to dataset\\train\\demented\\OAS2_0111_MR1\n",
      "Copying ./demented\\OAS2_0134_MR1 to dataset\\train\\demented\\OAS2_0134_MR1\n",
      "Copying ./demented\\OAS2_0182_MR1 to dataset\\train\\demented\\OAS2_0182_MR1\n",
      "Copying ./demented\\OAS2_0116_MR2 to dataset\\train\\demented\\OAS2_0116_MR2\n",
      "Copying ./demented\\OAS2_0146_MR2 to dataset\\train\\demented\\OAS2_0146_MR2\n",
      "Copying ./demented\\OAS2_0140_MR1 to dataset\\train\\demented\\OAS2_0140_MR1\n",
      "Copying ./demented\\OAS2_0172_MR2 to dataset\\train\\demented\\OAS2_0172_MR2\n",
      "Copying ./demented\\OAS2_0127_MR3 to dataset\\train\\demented\\OAS2_0127_MR3\n",
      "Copying ./demented\\OAS2_0124_MR2 to dataset\\train\\demented\\OAS2_0124_MR2\n",
      "Copying ./demented\\OAS2_0112_MR1 to dataset\\train\\demented\\OAS2_0112_MR1\n",
      "Copying ./demented\\OAS2_0145_MR2 to dataset\\train\\demented\\OAS2_0145_MR2\n",
      "Copying ./demented\\OAS2_0127_MR1 to dataset\\train\\demented\\OAS2_0127_MR1\n",
      "Copying ./demented\\OAS2_0114_MR2 to dataset\\train\\demented\\OAS2_0114_MR2\n",
      "Copying ./demented\\OAS2_0176_MR2 to dataset\\train\\demented\\OAS2_0176_MR2\n",
      "Copying ./demented\\OAS2_0175_MR2 to dataset\\train\\demented\\OAS2_0175_MR2\n",
      "Copying ./demented\\OAS2_0165_MR1 to dataset\\train\\demented\\OAS2_0165_MR1\n",
      "Copying ./demented\\OAS2_0145_MR1 to dataset\\train\\demented\\OAS2_0145_MR1\n",
      "Copying ./demented\\OAS2_0118_MR2 to dataset\\train\\demented\\OAS2_0118_MR2\n",
      "Copying ./demented\\OAS2_0181_MR1 to dataset\\train\\demented\\OAS2_0181_MR1\n",
      "Copying ./demented\\OAS2_0104_MR2 to dataset\\train\\demented\\OAS2_0104_MR2\n",
      "Copying ./demented\\OAS2_0111_MR2 to dataset\\train\\demented\\OAS2_0111_MR2\n",
      "Copying ./demented\\OAS2_0127_MR4 to dataset\\train\\demented\\OAS2_0127_MR4\n",
      "Copying ./demented\\OAS2_0176_MR3 to dataset\\train\\demented\\OAS2_0176_MR3\n",
      "Copying ./demented\\OAS2_0103_MR2 to dataset\\train\\demented\\OAS2_0103_MR2\n",
      "Copying ./demented\\OAS2_0159_MR2 to dataset\\train\\demented\\OAS2_0159_MR2\n",
      "Copying ./demented\\OAS2_0116_MR1 to dataset\\train\\demented\\OAS2_0116_MR1\n",
      "Copying ./demented\\OAS2_0118_MR1 to dataset\\train\\demented\\OAS2_0118_MR1\n",
      "Copying ./demented\\OAS2_0103_MR3 to dataset\\train\\demented\\OAS2_0103_MR3\n",
      "Copying ./demented\\OAS2_0175_MR3 to dataset\\train\\demented\\OAS2_0175_MR3\n",
      "Copying ./demented\\OAS2_0162_MR1 to dataset\\train\\demented\\OAS2_0162_MR1\n",
      "Copying ./demented\\OAS2_0181_MR2 to dataset\\train\\demented\\OAS2_0181_MR2\n",
      "Copying ./demented\\OAS2_0181_MR3 to dataset\\train\\demented\\OAS2_0181_MR3\n",
      "Copying ./demented\\OAS2_0103_MR1 to dataset\\train\\demented\\OAS2_0103_MR1\n",
      "Copying ./demented\\OAS2_0144_MR1 to dataset\\train\\demented\\OAS2_0144_MR1\n",
      "Copying ./demented\\OAS2_0113_MR1 to dataset\\train\\demented\\OAS2_0113_MR1\n",
      "Copying ./demented\\OAS2_0127_MR2 to dataset\\train\\demented\\OAS2_0127_MR2\n",
      "Copying ./demented\\OAS2_0139_MR1 to dataset\\train\\demented\\OAS2_0139_MR1\n",
      "Copying ./demented\\OAS2_0120_MR1 to dataset\\train\\demented\\OAS2_0120_MR1\n",
      "Copying ./demented\\OAS2_0160_MR2 to dataset\\train\\demented\\OAS2_0160_MR2\n",
      "Copying ./demented\\OAS2_0120_MR2 to dataset\\train\\demented\\OAS2_0120_MR2\n",
      "Copying ./demented\\OAS2_0179_MR1 to dataset\\train\\demented\\OAS2_0179_MR1\n",
      "Copying ./demented\\OAS2_0140_MR3 to dataset\\train\\demented\\OAS2_0140_MR3\n",
      "Copying ./demented\\OAS2_0165_MR2 to dataset\\train\\demented\\OAS2_0165_MR2\n",
      "Copying ./demented\\OAS2_0134_MR2 to dataset\\train\\demented\\OAS2_0134_MR2\n",
      "Copying ./demented\\OAS2_0164_MR2 to dataset\\train\\demented\\OAS2_0164_MR2\n",
      "Copying ./demented\\OAS2_0124_MR1 to dataset\\train\\demented\\OAS2_0124_MR1\n",
      "Copying ./demented\\OAS2_0150_MR2 to dataset\\train\\demented\\OAS2_0150_MR2\n",
      "Copying ./demented\\OAS2_0112_MR2 to dataset\\train\\demented\\OAS2_0112_MR2\n",
      "Copying ./demented\\OAS2_0139_MR2 to dataset\\train\\demented\\OAS2_0139_MR2\n",
      "Copying ./demented\\OAS2_0102_MR3 to dataset\\train\\demented\\OAS2_0102_MR3\n",
      "Copying ./demented\\OAS2_0185_MR2 to dataset\\train\\demented\\OAS2_0185_MR2\n",
      "Copying ./demented\\OAS2_0114_MR1 to dataset\\train\\demented\\OAS2_0114_MR1\n",
      "Copying ./demented\\OAS2_0146_MR1 to dataset\\train\\demented\\OAS2_0146_MR1\n",
      "Copying ./demented\\OAS2_0160_MR1 to dataset\\train\\demented\\OAS2_0160_MR1\n",
      "Copying ./demented\\OAS2_0133_MR3 to dataset\\val\\demented\\OAS2_0133_MR3\n",
      "Copying ./demented\\OAS2_0144_MR2 to dataset\\val\\demented\\OAS2_0144_MR2\n",
      "Copying ./demented\\OAS2_0104_MR1 to dataset\\val\\demented\\OAS2_0104_MR1\n",
      "Copying ./demented\\OAS2_0137_MR1 to dataset\\val\\demented\\OAS2_0137_MR1\n",
      "Copying ./demented\\OAS2_0162_MR2 to dataset\\val\\demented\\OAS2_0162_MR2\n",
      "Copying ./demented\\OAS2_0185_MR3 to dataset\\val\\demented\\OAS2_0185_MR3\n",
      "Copying ./demented\\OAS2_0140_MR2 to dataset\\val\\demented\\OAS2_0140_MR2\n",
      "Copying ./demented\\OAS2_0131_MR2 to dataset\\val\\demented\\OAS2_0131_MR2\n",
      "Copying ./demented\\OAS2_0176_MR1 to dataset\\val\\demented\\OAS2_0176_MR1\n",
      "Copying ./demented\\OAS2_0108_MR1 to dataset\\val\\demented\\OAS2_0108_MR1\n",
      "Copying ./demented\\OAS2_0137_MR2 to dataset\\val\\demented\\OAS2_0137_MR2\n",
      "Copying ./demented\\OAS2_0106_MR2 to dataset\\val\\demented\\OAS2_0106_MR2\n",
      "Copying ./demented\\OAS2_0127_MR5 to dataset\\val\\demented\\OAS2_0127_MR5\n",
      "Copying ./demented\\OAS2_0131_MR1 to dataset\\val\\demented\\OAS2_0131_MR1\n",
      "Copying ./demented\\OAS2_0184_MR1 to dataset\\val\\demented\\OAS2_0184_MR1\n",
      "Copying ./demented\\OAS2_0133_MR1 to dataset\\val\\demented\\OAS2_0133_MR1\n",
      "Copying ./demented\\OAS2_0157_MR2 to dataset\\val\\demented\\OAS2_0157_MR2\n",
      "Copying ./demented\\OAS2_0175_MR1 to dataset\\val\\demented\\OAS2_0175_MR1\n",
      "Found 78 files in non-demented\n",
      "Copying ./non-demented\\OAS2_0126_MR2 to dataset\\train\\non-demented\\OAS2_0126_MR2\n",
      "Copying ./non-demented\\OAS2_0117_MR2 to dataset\\train\\non-demented\\OAS2_0117_MR2\n",
      "Copying ./non-demented\\OAS2_0129_MR3 to dataset\\train\\non-demented\\OAS2_0129_MR3\n",
      "Copying ./non-demented\\OAS2_0161_MR3 to dataset\\train\\non-demented\\OAS2_0161_MR3\n",
      "Copying ./non-demented\\OAS2_0183_MR2 to dataset\\train\\non-demented\\OAS2_0183_MR2\n",
      "Copying ./non-demented\\OAS2_0169_MR1 to dataset\\train\\non-demented\\OAS2_0169_MR1\n",
      "Copying ./non-demented\\OAS2_0183_MR4 to dataset\\train\\non-demented\\OAS2_0183_MR4\n",
      "Copying ./non-demented\\OAS2_0178_MR1 to dataset\\train\\non-demented\\OAS2_0178_MR1\n",
      "Copying ./non-demented\\OAS2_0141_MR1 to dataset\\train\\non-demented\\OAS2_0141_MR1\n",
      "Copying ./non-demented\\OAS2_0126_MR3 to dataset\\train\\non-demented\\OAS2_0126_MR3\n",
      "Copying ./non-demented\\OAS2_0186_MR1 to dataset\\train\\non-demented\\OAS2_0186_MR1\n",
      "Copying ./non-demented\\OAS2_0174_MR2 to dataset\\train\\non-demented\\OAS2_0174_MR2\n",
      "Copying ./non-demented\\OAS2_0156_MR2 to dataset\\train\\non-demented\\OAS2_0156_MR2\n",
      "Copying ./non-demented\\OAS2_0156_MR1 to dataset\\train\\non-demented\\OAS2_0156_MR1\n",
      "Copying ./non-demented\\OAS2_0117_MR4 to dataset\\train\\non-demented\\OAS2_0117_MR4\n",
      "Copying ./non-demented\\OAS2_0117_MR3 to dataset\\train\\non-demented\\OAS2_0117_MR3\n",
      "Copying ./non-demented\\OAS2_0117_MR1 to dataset\\train\\non-demented\\OAS2_0117_MR1\n",
      "Copying ./non-demented\\OAS2_0143_MR3 to dataset\\train\\non-demented\\OAS2_0143_MR3\n",
      "Copying ./non-demented\\OAS2_0177_MR2 to dataset\\train\\non-demented\\OAS2_0177_MR2\n",
      "Copying ./non-demented\\OAS2_0138_MR1 to dataset\\train\\non-demented\\OAS2_0138_MR1\n",
      "Copying ./non-demented\\OAS2_0142_MR1 to dataset\\train\\non-demented\\OAS2_0142_MR1\n",
      "Copying ./non-demented\\OAS2_0128_MR1 to dataset\\train\\non-demented\\OAS2_0128_MR1\n",
      "Copying ./non-demented\\OAS2_0101_MR1 to dataset\\train\\non-demented\\OAS2_0101_MR1\n",
      "Copying ./non-demented\\OAS2_0129_MR2 to dataset\\train\\non-demented\\OAS2_0129_MR2\n",
      "Copying ./non-demented\\OAS2_0100_MR1 to dataset\\train\\non-demented\\OAS2_0100_MR1\n",
      "Copying ./non-demented\\OAS2_0178_MR2 to dataset\\train\\non-demented\\OAS2_0178_MR2\n",
      "Copying ./non-demented\\OAS2_0109_MR2 to dataset\\train\\non-demented\\OAS2_0109_MR2\n",
      "Copying ./non-demented\\OAS2_0186_MR2 to dataset\\train\\non-demented\\OAS2_0186_MR2\n",
      "Copying ./non-demented\\OAS2_0105_MR1 to dataset\\train\\non-demented\\OAS2_0105_MR1\n",
      "Copying ./non-demented\\OAS2_0143_MR2 to dataset\\train\\non-demented\\OAS2_0143_MR2\n",
      "Copying ./non-demented\\OAS2_0158_MR2 to dataset\\train\\non-demented\\OAS2_0158_MR2\n",
      "Copying ./non-demented\\OAS2_0152_MR2 to dataset\\train\\non-demented\\OAS2_0152_MR2\n",
      "Copying ./non-demented\\OAS2_0177_MR1 to dataset\\train\\non-demented\\OAS2_0177_MR1\n",
      "Copying ./non-demented\\OAS2_0129_MR1 to dataset\\train\\non-demented\\OAS2_0129_MR1\n",
      "Copying ./non-demented\\OAS2_0122_MR1 to dataset\\train\\non-demented\\OAS2_0122_MR1\n",
      "Copying ./non-demented\\OAS2_0154_MR1 to dataset\\train\\non-demented\\OAS2_0154_MR1\n",
      "Copying ./non-demented\\OAS2_0119_MR1 to dataset\\train\\non-demented\\OAS2_0119_MR1\n",
      "Copying ./non-demented\\OAS2_0183_MR3 to dataset\\train\\non-demented\\OAS2_0183_MR3\n",
      "Copying ./non-demented\\OAS2_0100_MR3 to dataset\\train\\non-demented\\OAS2_0100_MR3\n",
      "Copying ./non-demented\\OAS2_0138_MR2 to dataset\\train\\non-demented\\OAS2_0138_MR2\n",
      "Copying ./non-demented\\OAS2_0174_MR1 to dataset\\train\\non-demented\\OAS2_0174_MR1\n",
      "Copying ./non-demented\\OAS2_0101_MR2 to dataset\\train\\non-demented\\OAS2_0101_MR2\n",
      "Copying ./non-demented\\OAS2_0149_MR1 to dataset\\train\\non-demented\\OAS2_0149_MR1\n",
      "Copying ./non-demented\\OAS2_0171_MR1 to dataset\\train\\non-demented\\OAS2_0171_MR1\n",
      "Copying ./non-demented\\OAS2_0142_MR2 to dataset\\train\\non-demented\\OAS2_0142_MR2\n",
      "Copying ./non-demented\\OAS2_0147_MR1 to dataset\\train\\non-demented\\OAS2_0147_MR1\n",
      "Copying ./non-demented\\OAS2_0135_MR1 to dataset\\train\\non-demented\\OAS2_0135_MR1\n",
      "Copying ./non-demented\\OAS2_0135_MR2 to dataset\\train\\non-demented\\OAS2_0135_MR2\n",
      "Copying ./non-demented\\OAS2_0122_MR2 to dataset\\train\\non-demented\\OAS2_0122_MR2\n",
      "Copying ./non-demented\\OAS2_0141_MR2 to dataset\\train\\non-demented\\OAS2_0141_MR2\n",
      "Copying ./non-demented\\OAS2_0119_MR2 to dataset\\train\\non-demented\\OAS2_0119_MR2\n",
      "Copying ./non-demented\\OAS2_0147_MR4 to dataset\\train\\non-demented\\OAS2_0147_MR4\n",
      "Copying ./non-demented\\OAS2_0100_MR2 to dataset\\train\\non-demented\\OAS2_0100_MR2\n",
      "Copying ./non-demented\\OAS2_0161_MR1 to dataset\\train\\non-demented\\OAS2_0161_MR1\n",
      "Copying ./non-demented\\OAS2_0126_MR1 to dataset\\train\\non-demented\\OAS2_0126_MR1\n",
      "Copying ./non-demented\\OAS2_0119_MR3 to dataset\\train\\non-demented\\OAS2_0119_MR3\n",
      "Copying ./non-demented\\OAS2_0186_MR3 to dataset\\train\\non-demented\\OAS2_0186_MR3\n",
      "Copying ./non-demented\\OAS2_0152_MR1 to dataset\\train\\non-demented\\OAS2_0152_MR1\n",
      "Copying ./non-demented\\OAS2_0161_MR2 to dataset\\train\\non-demented\\OAS2_0161_MR2\n",
      "Copying ./non-demented\\OAS2_0147_MR2 to dataset\\train\\non-demented\\OAS2_0147_MR2\n",
      "Copying ./non-demented\\OAS2_0158_MR1 to dataset\\train\\non-demented\\OAS2_0158_MR1\n",
      "Copying ./non-demented\\OAS2_0109_MR1 to dataset\\train\\non-demented\\OAS2_0109_MR1\n",
      "Copying ./non-demented\\OAS2_0147_MR3 to dataset\\val\\non-demented\\OAS2_0147_MR3\n",
      "Copying ./non-demented\\OAS2_0121_MR2 to dataset\\val\\non-demented\\OAS2_0121_MR2\n",
      "Copying ./non-demented\\OAS2_0105_MR2 to dataset\\val\\non-demented\\OAS2_0105_MR2\n",
      "Copying ./non-demented\\OAS2_0183_MR1 to dataset\\val\\non-demented\\OAS2_0183_MR1\n",
      "Copying ./non-demented\\OAS2_0171_MR2 to dataset\\val\\non-demented\\OAS2_0171_MR2\n",
      "Copying ./non-demented\\OAS2_0178_MR3 to dataset\\val\\non-demented\\OAS2_0178_MR3\n",
      "Copying ./non-demented\\OAS2_0143_MR1 to dataset\\val\\non-demented\\OAS2_0143_MR1\n",
      "Copying ./non-demented\\OAS2_0149_MR2 to dataset\\val\\non-demented\\OAS2_0149_MR2\n",
      "Copying ./non-demented\\OAS2_0101_MR3 to dataset\\val\\non-demented\\OAS2_0101_MR3\n",
      "Copying ./non-demented\\OAS2_0121_MR1 to dataset\\val\\non-demented\\OAS2_0121_MR1\n",
      "Copying ./non-demented\\OAS2_0128_MR2 to dataset\\val\\non-demented\\OAS2_0128_MR2\n",
      "Copying ./non-demented\\OAS2_0171_MR3 to dataset\\val\\non-demented\\OAS2_0171_MR3\n",
      "Copying ./non-demented\\OAS2_0169_MR2 to dataset\\val\\non-demented\\OAS2_0169_MR2\n",
      "Copying ./non-demented\\OAS2_0154_MR2 to dataset\\val\\non-demented\\OAS2_0154_MR2\n",
      "Copying ./non-demented\\OAS2_0174_MR3 to dataset\\val\\non-demented\\OAS2_0174_MR3\n",
      "Copying ./non-demented\\OAS2_0152_MR3 to dataset\\val\\non-demented\\OAS2_0152_MR3\n"
     ]
    }
   ],
   "source": [
    "## Building the dataset\n",
    "# RUN ONLY ONCE\n",
    "import os\n",
    "import shutil\n",
    "import random\n",
    "\n",
    "def split_data(class_name, split_ratio=0.8):\n",
    "    src_dir = f'./{class_name}'\n",
    "    if not os.path.exists(src_dir):\n",
    "        print(f\"Source folder {src_dir} does not exist!\")\n",
    "        return\n",
    "\n",
    "    # Include all files (ignore extensions)\n",
    "    files = [f for f in os.listdir(src_dir) if os.path.isfile(os.path.join(src_dir, f))]\n",
    "    print(f\"Found {len(files)} files in {class_name}\")\n",
    "\n",
    "    if len(files) == 0:\n",
    "        print(f\"No files found in {src_dir}\")\n",
    "        return\n",
    "\n",
    "    random.shuffle(files)\n",
    "    split_idx = int(len(files) * split_ratio)\n",
    "    train_files = files[:split_idx]\n",
    "    val_files = files[split_idx:]\n",
    "\n",
    "    for split, split_files in [('train', train_files), ('val', val_files)]:\n",
    "        dst_dir = os.path.join('dataset', split, class_name)\n",
    "        os.makedirs(dst_dir, exist_ok=True)\n",
    "        for file in split_files:\n",
    "            src_file = os.path.join(src_dir, file)\n",
    "            dst_file = os.path.join(dst_dir, file)\n",
    "            print(f\"Copying {src_file} to {dst_file}\")\n",
    "            shutil.copy(src_file, dst_file)\n",
    "\n",
    "split_data('demented')\n",
    "split_data('non-demented')\n"
   ]
  },
  {
   "cell_type": "code",
   "execution_count": 7,
   "metadata": {},
   "outputs": [
    {
     "name": "stdout",
     "output_type": "stream",
     "text": [
      "Augmenting 68 files in dataset/train/demented...\n"
     ]
    },
    {
     "name": "stderr",
     "output_type": "stream",
     "text": [
      "Processing demented: 100%|██████████| 68/68 [00:30<00:00,  2.24it/s]\n"
     ]
    },
    {
     "name": "stdout",
     "output_type": "stream",
     "text": [
      "Augmenting 62 files in dataset/train/non-demented...\n"
     ]
    },
    {
     "name": "stderr",
     "output_type": "stream",
     "text": [
      "Processing non-demented: 100%|██████████| 62/62 [00:26<00:00,  2.31it/s]\n"
     ]
    }
   ],
   "source": [
    "import os\n",
    "import numpy as np\n",
    "from PIL import Image\n",
    "from torchvision import transforms\n",
    "from tqdm import tqdm\n",
    "\n",
    "augment = transforms.Compose([\n",
    "    transforms.RandomHorizontalFlip(),\n",
    "    transforms.RandomRotation(10),\n",
    "    transforms.RandomResizedCrop(224, scale=(0.9, 1.0)),\n",
    "    transforms.ColorJitter(brightness=0.1, contrast=0.1)\n",
    "])\n",
    "\n",
    "root_dirs = [\n",
    "    'dataset/train/demented',\n",
    "    'dataset/train/non-demented'\n",
    "]\n",
    "\n",
    "num_augmented_per_file = 4\n",
    "\n",
    "for root in root_dirs:\n",
    "    files = os.listdir(root)\n",
    "    print(f\"Augmenting {len(files)} files in {root}...\")\n",
    "\n",
    "    for fname in tqdm(files, desc=f\"Processing {os.path.basename(root)}\"):\n",
    "        fpath = os.path.join(root, fname)\n",
    "        try:\n",
    "            volume = np.load(fpath)\n",
    "        except Exception as e:\n",
    "            print(f\"Skipping {fpath}: {e}\")\n",
    "            continue\n",
    "\n",
    "        if volume.ndim != 3:\n",
    "            print(f\"Skipping {fpath}: Not a 3D volume\")\n",
    "            continue\n",
    "\n",
    "        if volume.shape[0] != 20:\n",
    "            volume = np.transpose(volume, (2, 0, 1))\n",
    "\n",
    "        for i in range(num_augmented_per_file):\n",
    "            augmented_slices = []\n",
    "            for slice_idx in range(volume.shape[0]):\n",
    "                slice_img = volume[slice_idx]\n",
    "                pil_img = Image.fromarray(np.uint8(slice_img)).convert(\"RGB\")\n",
    "                aug_img = augment(pil_img)\n",
    "                aug_arr = np.array(aug_img.convert(\"L\"))\n",
    "                augmented_slices.append(aug_arr)\n",
    "\n",
    "            augmented_volume = np.stack(augmented_slices, axis=0)\n",
    "            out_name = fname + f\"_aug{i+1}\"\n",
    "            if out_name.endswith('.npy'):\n",
    "                out_name = out_name[:-4]\n",
    "            out_path = os.path.join(root, out_name)\n",
    "            with open(out_path, 'wb') as f:\n",
    "                np.save(f, augmented_volume)\n"
   ]
  },
  {
   "cell_type": "code",
   "execution_count": 3,
   "metadata": {},
   "outputs": [],
   "source": [
    "train_root = \"dataset/train\"\n",
    "val_root = \"dataset/val\"\n",
    "\n",
    "train_samples = []\n",
    "val_samples = []\n",
    "\n",
    "for label_idx, class_name in enumerate(sorted(os.listdir(train_root))):\n",
    "    class_path = os.path.join(train_root, class_name)\n",
    "    for fname in os.listdir(class_path):\n",
    "        train_samples.append((os.path.join(class_path, fname), label_idx))\n",
    "\n",
    "for label_idx, class_name in enumerate(sorted(os.listdir(val_root))):\n",
    "    class_path = os.path.join(val_root, class_name)\n",
    "    for fname in os.listdir(class_path):\n",
    "        val_samples.append((os.path.join(class_path, fname), label_idx))\n",
    "\n"
   ]
  },
  {
   "cell_type": "code",
   "execution_count": 4,
   "metadata": {},
   "outputs": [],
   "source": [
    "# Define data transformations for data augmentation and normalization\n",
    "transform_train = transforms.Compose([\n",
    "    transforms.Resize((224, 224)),\n",
    "    transforms.RandomHorizontalFlip(p=0.5),\n",
    "    transforms.RandomRotation(degrees=5),\n",
    "    transforms.ToTensor(),  # Converts (H, W) to (1, H, W)\n",
    "    transforms.Normalize([0.5]*3, [0.5]*3)\n",
    "])\n",
    "\n",
    "transform_val = transforms.Compose([\n",
    "    transforms.Resize((224, 224)),\n",
    "    transforms.ToTensor(),\n",
    "    transforms.Normalize([0.5]*3, [0.5]*3)\n",
    "])\n"
   ]
  },
  {
   "cell_type": "code",
   "execution_count": 5,
   "metadata": {},
   "outputs": [
    {
     "name": "stdout",
     "output_type": "stream",
     "text": [
      "Shape: (20, 256, 115)\n",
      "Dtype: float64\n",
      "Min: -939.9154701692341 Max: 1491.7522524275992\n"
     ]
    }
   ],
   "source": [
    "test_path = train_samples[0][0]\n",
    "test_array = np.load(test_path)\n",
    "\n",
    "print(\"Shape:\", test_array.shape)\n",
    "print(\"Dtype:\", test_array.dtype)\n",
    "print(\"Min:\", test_array.min(), \"Max:\", test_array.max())"
   ]
  },
  {
   "cell_type": "code",
   "execution_count": 6,
   "metadata": {},
   "outputs": [],
   "source": [
    "import numpy as np\n",
    "import torch\n",
    "from PIL import Image\n",
    "\n",
    "def load_sample(path, transform=None):\n",
    "    volume = np.load(path)  # Shape: (slices, height, width)\n",
    "\n",
    "    # Get the center slice index\n",
    "    center = volume.shape[0] // 2\n",
    "    start = max(center - 10, 0)\n",
    "    end = min(center + 11, volume.shape[0])\n",
    "\n",
    "    # Pad if necessary\n",
    "    if end - start < 21:\n",
    "        padding_needed = 21 - (end - start)\n",
    "        pad_before = padding_needed // 2\n",
    "        pad_after = padding_needed - pad_before\n",
    "        volume = np.pad(volume, ((pad_before, pad_after), (0, 0), (0, 0)), mode='constant')\n",
    "        # Update indices after padding\n",
    "        start = center - 10\n",
    "        end = center + 11\n",
    "\n",
    "    # Extract 21 slices\n",
    "    slices = volume[start:end]  # Shape: (21, H, W)\n",
    "\n",
    "    # Normalize to [0, 1]\n",
    "    slices = (slices - slices.min()) / (slices.max() - slices.min() + 1e-8)\n",
    "\n",
    "    processed = []\n",
    "    for s in slices:\n",
    "        img = Image.fromarray((s * 255).astype(np.uint8)).convert('RGB')  # Shape: (H, W, 3)\n",
    "        if transform:\n",
    "            img = transform(img)  # Shape: (3, H, W)\n",
    "        processed.append(img)\n",
    "\n",
    "    return torch.stack(processed)  # Shape: (21, 3, H, W)\n"
   ]
  },
  {
   "cell_type": "code",
   "execution_count": 15,
   "metadata": {},
   "outputs": [],
   "source": [
    "from tqdm import tqdm\n",
    "\n",
    "def process_sample(p, label, transform):\n",
    "    tensor = load_sample(p, transform)  # (21, 3, 224, 224)\n",
    "    return tensor, label\n",
    "\n",
    "def collate_fn(batch):\n",
    "    inputs, labels = zip(*[process_sample(p, label, transform_train) for p, label in batch])\n",
    "    return torch.stack(inputs), torch.tensor(labels)\n",
    "\n",
    "train_loader = torch.utils.data.DataLoader(train_samples, batch_size=1, shuffle=True, collate_fn=collate_fn)\n",
    "\n",
    "def collate_fn_val(batch):\n",
    "    inputs, labels = zip(*[process_sample(p, label, transform_val) for p, label in batch])\n",
    "    return torch.stack(inputs), torch.tensor(labels)\n",
    "\n",
    "val_loader = torch.utils.data.DataLoader(val_samples, batch_size=1, shuffle=False, collate_fn=collate_fn_val)\n",
    "\n"
   ]
  },
  {
   "cell_type": "code",
   "execution_count": 16,
   "metadata": {},
   "outputs": [
    {
     "name": "stdout",
     "output_type": "stream",
     "text": [
      "torch.Size([1, 21, 3, 224, 224])\n"
     ]
    }
   ],
   "source": [
    "batch = next(iter(train_loader))\n",
    "print(batch[0].shape)"
   ]
  },
  {
   "cell_type": "code",
   "execution_count": 2,
   "metadata": {},
   "outputs": [
    {
     "name": "stdout",
     "output_type": "stream",
     "text": [
      "hello worlds\n"
     ]
    }
   ],
   "source": [
    "print(\"hello worlds\")"
   ]
  },
  {
   "cell_type": "code",
   "execution_count": 8,
   "metadata": {},
   "outputs": [
    {
     "name": "stderr",
     "output_type": "stream",
     "text": [
      "d:\\Alzeimers-detection\\.venv\\Lib\\site-packages\\torchvision\\models\\_utils.py:208: UserWarning: The parameter 'pretrained' is deprecated since 0.13 and may be removed in the future, please use 'weights' instead.\n",
      "  warnings.warn(\n",
      "d:\\Alzeimers-detection\\.venv\\Lib\\site-packages\\torchvision\\models\\_utils.py:223: UserWarning: Arguments other than a weight enum or `None` for 'weights' are deprecated since 0.13 and may be removed in the future. The current behavior is equivalent to passing `weights=ResNet50_Weights.IMAGENET1K_V1`. You can also use `weights=ResNet50_Weights.DEFAULT` to get the most up-to-date weights.\n",
      "  warnings.warn(msg)\n"
     ]
    },
    {
     "name": "stdout",
     "output_type": "stream",
     "text": [
      "Using device: cuda\n"
     ]
    }
   ],
   "source": [
    "# ⬇️ Import 2D ResNet50 instead of 3D ResNet\n",
    "from torchvision.models import resnet50\n",
    "import torch.nn as nn\n",
    "import torch\n",
    "\n",
    "device = torch.device(\"cuda\" if torch.cuda.is_available() else \"cpu\")\n",
    "\n",
    "# Load pretrained 2D ResNet50\n",
    "model = resnet50(pretrained=True)\n",
    "\n",
    "# Replace final layer with Dropout + FC\n",
    "num_ftrs = model.fc.in_features\n",
    "model.fc = nn.Sequential(\n",
    "    nn.Dropout(p=0.5),\n",
    "    nn.Linear(num_ftrs, 2)\n",
    ")\n",
    "\n",
    "# Freeze all layers except FC\n",
    "for name, param in model.named_parameters():\n",
    "    param.requires_grad = name.startswith(\"fc\")\n",
    "\n",
    "model = model.to(device)\n",
    "print(\"Using device:\", device)\n",
    "\n",
    "# Loss and optimizer\n",
    "criterion = nn.CrossEntropyLoss()\n",
    "optimizer = torch.optim.Adam(\n",
    "    filter(lambda p: p.requires_grad, model.parameters()),\n",
    "    lr=1e-4,\n",
    "    weight_decay=1e-5\n",
    ")\n",
    "scheduler = torch.optim.lr_scheduler.StepLR(optimizer, step_size=3, gamma=0.1)\n"
   ]
  },
  {
   "cell_type": "code",
   "execution_count": 12,
   "metadata": {},
   "outputs": [],
   "source": [
    "def print_progress(current, total, prefix=\"\", length=30):\n",
    "    percent = f\"{100 * (current / total):.1f}\"\n",
    "    filled = int(length * current // total)\n",
    "    bar = \"█\" * filled + '-' * (length - filled)\n",
    "    print(f\"\\r{prefix} |{bar}| {percent}% ({current}/{total})\", end='\\r')\n",
    "    if current == total:\n",
    "        print()  # Newline after complete\n"
   ]
  },
  {
   "cell_type": "code",
   "execution_count": 14,
   "metadata": {},
   "outputs": [
    {
     "name": "stdout",
     "output_type": "stream",
     "text": [
      "\n",
      "Epoch 1/10\n",
      "=====\n",
      "Train |██████████████████████████████| 100.0% (650/650)\n",
      "Train Loss: 15.6432 | Accuracy: 10.2800\n",
      "Val |██████████████████████████████| 100.0% (34/34)\n",
      "Val Loss: nan | Accuracy: 11.1176\n",
      "\n",
      "Epoch 2/10\n",
      "=====\n",
      "Train |██████████████████████████████| 100.0% (650/650)\n",
      "Train Loss: 15.4275 | Accuracy: 10.3831\n",
      "Val |██████████████████████████████| 100.0% (34/34)\n",
      "Val Loss: nan | Accuracy: 11.1176\n",
      "\n",
      "Epoch 3/10\n",
      "=====\n",
      "Train |█████-------------------------| 19.1% (124/650)\r"
     ]
    },
    {
     "ename": "KeyboardInterrupt",
     "evalue": "",
     "output_type": "error",
     "traceback": [
      "\u001b[31m---------------------------------------------------------------------------\u001b[39m",
      "\u001b[31mKeyboardInterrupt\u001b[39m                         Traceback (most recent call last)",
      "\u001b[36mCell\u001b[39m\u001b[36m \u001b[39m\u001b[32mIn[14]\u001b[39m\u001b[32m, line 34\u001b[39m\n\u001b[32m     30\u001b[39m         loss.backward()\n\u001b[32m     31\u001b[39m         optimizer.step()\n\u001b[32m---> \u001b[39m\u001b[32m34\u001b[39m running_loss += \u001b[43mloss\u001b[49m\u001b[43m.\u001b[49m\u001b[43mitem\u001b[49m\u001b[43m(\u001b[49m\u001b[43m)\u001b[49m * inputs.size(\u001b[32m0\u001b[39m)\n\u001b[32m     35\u001b[39m running_corrects += torch.sum(preds == labels.data)\n\u001b[32m     37\u001b[39m \u001b[38;5;66;03m# 👇 Show lightweight progress bar per epoch\u001b[39;00m\n",
      "\u001b[31mKeyboardInterrupt\u001b[39m: "
     ]
    }
   ],
   "source": [
    "num_epochs = 10\n",
    "\n",
    "for epoch in range(num_epochs):\n",
    "    print(f\"\\nEpoch {epoch+1}/{num_epochs}\")\n",
    "    print(\"=\" * 5)\n",
    "\n",
    "    for phase in ['train', 'val']:\n",
    "        if phase == 'train':\n",
    "            model.train()\n",
    "            loader = train_loader\n",
    "        else:\n",
    "            model.eval()\n",
    "            loader = val_loader\n",
    "\n",
    "        running_loss = 0.0\n",
    "        running_corrects = 0\n",
    "\n",
    "        for i, (inputs, labels) in enumerate(loader):\n",
    "            inputs = inputs.view(-1, 3, 224, 224).to(device)  # (B*21, 3, 224, 224)\n",
    "            labels = labels.unsqueeze(1).repeat(1, 21).view(-1).to(device)  # (B*21,)\n",
    "\n",
    "            optimizer.zero_grad()\n",
    "\n",
    "            with torch.set_grad_enabled(phase == 'train'):\n",
    "                outputs = model(inputs)\n",
    "                loss = criterion(outputs, labels)\n",
    "                _, preds = torch.max(outputs, 1)\n",
    "\n",
    "                if phase == 'train':\n",
    "                    loss.backward()\n",
    "                    optimizer.step()\n",
    "\n",
    "\n",
    "            running_loss += loss.item() * inputs.size(0)\n",
    "            running_corrects += torch.sum(preds == labels.data)\n",
    "\n",
    "            # 👇 Show lightweight progress bar per epoch\n",
    "            print_progress(i + 1, len(loader), prefix=f\"{phase.capitalize()}\")\n",
    "\n",
    "        epoch_loss = running_loss / len(loader.dataset)\n",
    "        epoch_acc = running_corrects.double() / len(loader.dataset)\n",
    "\n",
    "        print(f\"{phase.capitalize()} Loss: {epoch_loss:.4f} | Accuracy: {epoch_acc:.4f}\")\n",
    "\n",
    "    scheduler.step()\n"
   ]
  },
  {
   "cell_type": "code",
   "execution_count": null,
   "metadata": {},
   "outputs": [],
   "source": [
    "torch.cuda.empty_cache()\n"
   ]
  },
  {
   "cell_type": "code",
   "execution_count": 49,
   "metadata": {},
   "outputs": [],
   "source": [
    "# Save the model\n",
    "torch.save(model.state_dict(), 'flower_classification_model.pth')"
   ]
  },
  {
   "cell_type": "code",
   "execution_count": 42,
   "metadata": {},
   "outputs": [
    {
     "name": "stdout",
     "output_type": "stream",
     "text": [
      "Removing corrupted image: dataset/train\\daisy\\4534460263_8e9611db3c_n_jpg.rf.2756de378a7a041406b7aa661912da99.jpg\n",
      "✅ Image cleanup complete!\n"
     ]
    }
   ],
   "source": [
    "import os\n",
    "import concurrent.futures\n",
    "from PIL import Image\n",
    "\n",
    "dataset_path = \"dataset/train\"  # Change this to your dataset path\n",
    "num_threads = os.cpu_count()  # Use all CPU cores\n",
    "\n",
    "def check_and_remove_image(file_path):\n",
    "    \"\"\"Verifies image and removes it if corrupted.\"\"\"\n",
    "    try:\n",
    "        with Image.open(file_path) as img:\n",
    "            img.verify()  # Verify without fully loading\n",
    "    except Exception:\n",
    "        print(f\"Removing corrupted image: {file_path}\")\n",
    "        os.remove(file_path)  # Delete invalid image\n",
    "\n",
    "# Get all image file paths from subdirectories\n",
    "image_files = []\n",
    "for root, _, files in os.walk(dataset_path):\n",
    "    for file in files:\n",
    "        image_files.append(os.path.join(root, file))\n",
    "\n",
    "# Run in parallel for speed\n",
    "with concurrent.futures.ThreadPoolExecutor(max_workers=num_threads) as executor:\n",
    "    executor.map(check_and_remove_image, image_files)\n",
    "\n",
    "print(\"✅ Image cleanup complete!\")\n"
   ]
  },
  {
   "cell_type": "code",
   "execution_count": 46,
   "metadata": {},
   "outputs": [
    {
     "name": "stdout",
     "output_type": "stream",
     "text": [
      "Input shape: torch.Size([16, 3, 224, 224])\n"
     ]
    }
   ],
   "source": [
    "# Inspect one batch\n",
    "inputs, labels = next(iter(train_loader))\n",
    "print(\"Input shape:\", inputs.shape)\n"
   ]
  },
  {
   "cell_type": "code",
   "execution_count": 43,
   "metadata": {},
   "outputs": [],
   "source": [
    "del image_datasets, dataloaders  # Clear previous dataset objects"
   ]
  },
  {
   "cell_type": "markdown",
   "metadata": {},
   "source": [
    "## Classification on unseen image"
   ]
  },
  {
   "cell_type": "code",
   "execution_count": 51,
   "metadata": {},
   "outputs": [
    {
     "name": "stderr",
     "output_type": "stream",
     "text": [
      "C:\\Users\\omana\\AppData\\Local\\Packages\\PythonSoftwareFoundation.Python.3.12_qbz5n2kfra8p0\\LocalCache\\local-packages\\Python312\\site-packages\\torchvision\\models\\_utils.py:208: UserWarning: The parameter 'pretrained' is deprecated since 0.13 and may be removed in the future, please use 'weights' instead.\n",
      "  warnings.warn(\n",
      "C:\\Users\\omana\\AppData\\Local\\Packages\\PythonSoftwareFoundation.Python.3.12_qbz5n2kfra8p0\\LocalCache\\local-packages\\Python312\\site-packages\\torchvision\\models\\_utils.py:223: UserWarning: Arguments other than a weight enum or `None` for 'weights' are deprecated since 0.13 and may be removed in the future. The current behavior is equivalent to passing `weights=ResNet18_Weights.IMAGENET1K_V1`. You can also use `weights=ResNet18_Weights.DEFAULT` to get the most up-to-date weights.\n",
      "  warnings.warn(msg)\n"
     ]
    }
   ],
   "source": [
    "import torch\n",
    "from torchvision import models, transforms\n",
    "from PIL import Image\n",
    "\n",
    "# Load the saved model\n",
    "model = models.resnet18(pretrained=True)\n",
    "model.fc = nn.Linear(model.fc.in_features, 1000) \n",
    "model.load_state_dict(torch.load(\"flower_classification_model.pth\"))\n",
    "model.eval()\n",
    "\n",
    "# Create a new model with the correct final layer\n",
    "new_model = models.resnet18(pretrained=True)\n",
    "new_model.fc = nn.Linear(new_model.fc.in_features, 2)\n",
    "\n",
    "# Copy the weights and biases from the loaded model to the new model\n",
    "new_model.fc.weight.data = model.fc.weight.data[0:2] # Copy only the first 2 output units\n",
    "new_model.fc.bias.data = model.fc.bias.data[0:2]"
   ]
  },
  {
   "cell_type": "code",
   "execution_count": 53,
   "metadata": {},
   "outputs": [],
   "source": [
    "# load and preprocess unseen image\n",
    "image_path = 'test.jpg'\n",
    "image = Image.open(image_path)\n",
    "preprocess = transforms.Compose([\n",
    "    transforms.Resize(256),\n",
    "    transforms.CenterCrop(224),\n",
    "    transforms.ToTensor(),\n",
    "    transforms.Normalize([0.485, 0.456, 0.406], [0.229, 0.224, 0.225])\n",
    "])\n",
    "\n",
    "input_tensor = preprocess(image)\n",
    "input_batch = input_tensor.unsqueeze(0) # Add a batch dimension"
   ]
  },
  {
   "cell_type": "code",
   "execution_count": 54,
   "metadata": {},
   "outputs": [
    {
     "name": "stdout",
     "output_type": "stream",
     "text": [
      "The predicted class is: daisy\n"
     ]
    }
   ],
   "source": [
    "# Perform inference\n",
    "with torch.no_grad():\n",
    "    output = model(input_batch)\n",
    "\n",
    "# Get the predicted class\n",
    "_, predicted_class = output.max(1)\n",
    "\n",
    "# Map the predicted class to the class name\n",
    "class_names = ['daisy', 'dandelion']\n",
    "predicted_class_name = class_names[predicted_class.item()]\n",
    "\n",
    "print(f'The predicted class is: {predicted_class_name}')"
   ]
  },
  {
   "cell_type": "code",
   "execution_count": 3,
   "metadata": {},
   "outputs": [
    {
     "data": {
      "text/plain": [
       "(20, 256, 115)"
      ]
     },
     "execution_count": 3,
     "metadata": {},
     "output_type": "execute_result"
    }
   ],
   "source": [
    "import numpy as np\n",
    "\n",
    "file_path = \"/home/omanaokar/Desktop/Alzeimers-detection/demented/OAS2_0102_MR1\"\n",
    "\n",
    "file = np.load(file_path)\n",
    "file.shape"
   ]
  }
 ],
 "metadata": {
  "kernelspec": {
   "display_name": ".venv",
   "language": "python",
   "name": "python3"
  },
  "language_info": {
   "codemirror_mode": {
    "name": "ipython",
    "version": 3
   },
   "file_extension": ".py",
   "mimetype": "text/x-python",
   "name": "python",
   "nbconvert_exporter": "python",
   "pygments_lexer": "ipython3",
   "version": "3.12.9"
  }
 },
 "nbformat": 4,
 "nbformat_minor": 2
}
